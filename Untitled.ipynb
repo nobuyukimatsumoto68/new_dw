{
 "cells": [
  {
   "cell_type": "code",
   "execution_count": null,
   "id": "3cc761ae-b2e1-4734-b2a4-78d49348308a",
   "metadata": {},
   "outputs": [],
   "source": []
  }
 ],
 "metadata": {
  "kernelspec": {
   "display_name": "",
   "name": ""
  },
  "language_info": {
   "name": ""
  }
 },
 "nbformat": 4,
 "nbformat_minor": 5
}
